{
  "cells": [
    {
      "cell_type": "markdown",
      "metadata": {
        "id": "view-in-github",
        "colab_type": "text"
      },
      "source": [
        "<a href=\"https://colab.research.google.com/github/GowriShankarG/MTech_AIML/blob/master/ACI_Assignment_1_SolutionTemplate_S1_24_Version01.ipynb\" target=\"_parent\"><img src=\"https://colab.research.google.com/assets/colab-badge.svg\" alt=\"Open In Colab\"/></a>"
      ]
    },
    {
      "cell_type": "markdown",
      "metadata": {
        "id": "MzZ4dJQYF7sH"
      },
      "source": [
        "# Artificial and Computational Intelligence Assignment 1"
      ]
    },
    {
      "cell_type": "markdown",
      "metadata": {
        "id": "Fxb1aE9zF7sK"
      },
      "source": [
        "## Problem solving by Uninformed & Informed Search"
      ]
    },
    {
      "cell_type": "markdown",
      "metadata": {
        "id": "h35jIBbCF7sK"
      },
      "source": [
        "List all the team members BITS ID ,Name along with % of contribution in this assignment: sample Provided below:\n",
        "1. ___________________\n",
        "2. __________________\n",
        "3. ____________________\n",
        "4. ___________________\n",
        "5. ___________________"
      ]
    },
    {
      "cell_type": "markdown",
      "source": [
        "![image.png](data:image/png;base64,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)"
      ],
      "metadata": {
        "id": "Vt74xbLjECic"
      }
    },
    {
      "cell_type": "markdown",
      "metadata": {
        "id": "pt5ygv_zF7sL"
      },
      "source": [
        "Things to follow\n",
        "1.\tUse appropriate data structures to represent the graph and the path using python libraries\n",
        "2.\tProvide proper documentation\n",
        "3.\tFind the path and print it"
      ]
    },
    {
      "cell_type": "markdown",
      "metadata": {
        "id": "wZfop5ElF7sL"
      },
      "source": [
        "Coding begins here"
      ]
    },
    {
      "cell_type": "markdown",
      "metadata": {
        "id": "IL0QDMy3F7sL"
      },
      "source": [
        "### 1.\tDefine the environment in the following block"
      ]
    },
    {
      "cell_type": "markdown",
      "metadata": {
        "id": "RYwJPNLIF7sM"
      },
      "source": [
        "List the PEAS decription of the problem here in this markdown block"
      ]
    },
    {
      "cell_type": "markdown",
      "metadata": {
        "id": "XJ3cHp1IF7sM"
      },
      "source": [
        "Design the agent as PSA Agent(Problem Solving Agent)\n",
        "Clear Initial data structures to define the graph and variable declarations is expected\n",
        "IMPORTATANT: Write distinct code block as below"
      ]
    },
    {
      "cell_type": "code",
      "source": [
        "import random # used in random restart alog code"
      ],
      "metadata": {
        "id": "gAlERCWx4q5j"
      },
      "execution_count": 8,
      "outputs": []
    },
    {
      "cell_type": "code",
      "source": [
        "# Initial Data strucuture for matrix cave for the use case and variables\n",
        "\n",
        "# the following matix represent grid structure of the cave given in the problem\n",
        "# each cell data the data properties of the cel\n",
        "# ### first 4 digits of the cell provide wall details in each direction () west,east, north,south)\n",
        "# ### if wall then = 1, if no wall = 0\n",
        "# ### fifth digit of the cell represent the Fire = F, Bush = B or None = N\n",
        "cavegrid = [\n",
        "  ['1010B', '0011N', '0100N', '1011N', '0011N', '0110F'],\n",
        "  ['1100N', '1110N', '1000N', '0011N', '0110B', '1100N'],\n",
        "  ['1100N', '1001N', '0100N', '1011F', '0001N', '0100N'],\n",
        "  ['1000N', '0111F', '1100N', '1010N', '0011N', '0101N'],\n",
        "  ['1100N', '1010B', '0001N', '0001N', '0010N', '0110B'],\n",
        "  ['1101N', '1000N', '0011N', '0110N', '1100N', '1100N'],\n",
        "  ['1011N', '0101N', '1011N', '0001N', '0100N', '1101N']\n",
        "  ]\n",
        "\n",
        "\n",
        "# Size of cave / GridSize\n",
        "gridsize = (len(cavegrid),len(cavegrid[0]))\n",
        "#print(\"Dubug : cave grid size => \"+str(gridsize))"
      ],
      "metadata": {
        "id": "I5VneewropfZ"
      },
      "execution_count": 9,
      "outputs": []
    },
    {
      "cell_type": "code",
      "source": [
        "# Defining Node class to derive various objectives\n",
        "# CaveGrid Cell details\n",
        "class Node:\n",
        "    '''\n",
        "    class to provide the details of the node in the cave grid\n",
        "    '''\n",
        "    def __init__(self, nodeDtls, currNodePos, goalNodePos, gridSize):\n",
        "        self.nodeWallDtl = nodeDtls[0:4] # first 4 digits for west,east, north,south wall info\n",
        "        self.nodeObstacle = nodeDtls[4:5]\n",
        "        self.currNodePos = currNodePos\n",
        "        self.xpos = currNodePos[0]\n",
        "        self.ypos = currNodePos[1]\n",
        "        self.goal_xpos = goalNodePos[0]\n",
        "        self.goal_ypos = goalNodePos[1]\n",
        "        self.grid_rows = gridSize[0]\n",
        "        self.grid_cols = gridSize[1]\n",
        "\n",
        "    def isWestSideAllowed(self):\n",
        "        if self.nodeWallDtl[0] == '1': # 1 digit for West\n",
        "            return False\n",
        "        else:\n",
        "            return True\n",
        "\n",
        "    def isEastSideAllowed(self):\n",
        "        if self.nodeWallDtl[1] == '1': # 2 digit for East\n",
        "            return False\n",
        "        else:\n",
        "            return True\n",
        "\n",
        "    def isNorthSideAllowed(self):\n",
        "        if self.nodeWallDtl[2] == '1': # 3 digit for North\n",
        "            return False\n",
        "        else:\n",
        "            return True\n",
        "\n",
        "    def isSouthSideAllowed(self):\n",
        "        if self.nodeWallDtl[3] == '1': # 4 digit for South\n",
        "            return False\n",
        "        else:\n",
        "            return True\n",
        "\n",
        "\n",
        "    def getNeigbors(self):\n",
        "      ''' get the neigbors of the current node\n",
        "      '''\n",
        "      westNeigbor = (self.xpos, self.ypos-1)\n",
        "      eastNeigbor = (self.xpos, self.ypos+1)\n",
        "      northNeigbor = (self.xpos-1, self.ypos)\n",
        "      southNeigbor = (self.xpos+1, self.ypos)\n",
        "\n",
        "      # checking if the neigbors are out of grid size and if any wall exists\n",
        "      # ignore neibor if it is outside of the grid and wall exits\n",
        "      #print( \"negibor values before  checking grid ==>\"+str(westNeigbor)+\",\"+str(eastNeigbor)+\",\"+str(northNeigbor)+\",\"+str(southNeigbor))\n",
        "      if ((westNeigbor[0] < 0 or westNeigbor[0] >= self.grid_rows or westNeigbor[1] < 0 or westNeigbor[1] >= self.grid_cols) or (self.isWestSideAllowed()==False)):\n",
        "        westNeigbor = None\n",
        "\n",
        "      if (eastNeigbor[0] < 0 or eastNeigbor[0] >= self.grid_rows or eastNeigbor[1] < 0 or eastNeigbor[1] >= self.grid_cols or (self.isEastSideAllowed() == False)):\n",
        "        eastNeigbor = None\n",
        "\n",
        "      if (northNeigbor[0] < 0 or northNeigbor[0] >= self.grid_rows or northNeigbor[1] < 0 or northNeigbor[1] >= self.grid_cols or (self.isNorthSideAllowed() == False)):\n",
        "        northNeigbor = None\n",
        "\n",
        "      if (southNeigbor[0] < 0 or southNeigbor[0] >= self.grid_rows or southNeigbor[1] < 0 or southNeigbor[1] >= self.grid_cols or (self.isSouthSideAllowed() == False)):\n",
        "        southNeigbor = None\n",
        "\n",
        "      neibors = [westNeigbor,eastNeigbor,northNeigbor,southNeigbor]\n",
        "      # remove neibors with values as none\n",
        "      neibors = [x for x in neibors if x is not None]\n",
        "\n",
        "      return neibors\n",
        "\n",
        "\n",
        "    def nodeDebugInfo(self):\n",
        "        '''\n",
        "        node info for debugging purpose\n",
        "        '''\n",
        "        print(\"        -----------------------------------------[DEBUG]--------------------------------------------------------------------------\")\n",
        "        print(\"        \")\n",
        "        print(\"        Current Node Position     ==> (\"+str(self.xpos)+\",\"+str(self.ypos)+\")\")\n",
        "        print(\"        Node wall Info           ==> \"+self.nodeWallDtl)\n",
        "        print(\"        Node Obstacle Info       ==> \"+self.nodeObstacle)\n",
        "        print(\"        Goal Node Position        ==> (\"+str(self.goal_xpos)+\",\"+str(self.goal_ypos)+\")\")\n",
        "        print(\"        Is West side allowed     ==> \"+str(self.isWestSideAllowed()))\n",
        "        print(\"        Is East side allowed     ==> \"+str(self.isEastSideAllowed()))\n",
        "        print(\"        Is North side allowed    ==> \"+str(self.isNorthSideAllowed()))\n",
        "        print(\"        Is South side allowed    ==> \"+str(self.isSouthSideAllowed()))\n",
        "        print(\"         -----------------------North->\"+str(self.isNorthSideAllowed())+\"<------------------------------\")\n",
        "        print(\"             West->\"+str(self.isWestSideAllowed())+\"<                       EAST->\"+str(self.isEastSideAllowed())+\"<  \")\n",
        "        print(\"         -----------------------South->\"+str(self.isSouthSideAllowed())+\"<------------------------------\")\n",
        "        print(\"        \")\n",
        "        print(\"        ---------------------------------------[END DEBUG]----------------------------------------------------------------------------\")\n",
        "        return"
      ],
      "metadata": {
        "id": "IfwsksB_qx4N"
      },
      "execution_count": 10,
      "outputs": []
    },
    {
      "cell_type": "code",
      "source": [
        "#Code Block : Set Initial State (Must handle dynamic inputs)\n",
        "\n",
        "# node object of the initial state, at start node = (0,2) position\n",
        "def initState(StartNode):\n",
        "  return Node(cavegrid[StartNode[0]][StartNode[1]], StartNode, GoalNode, (len(cavegrid),len(cavegrid[0])))\n",
        ""
      ],
      "metadata": {
        "id": "bFeLPw8Fta7i"
      },
      "execution_count": 11,
      "outputs": []
    },
    {
      "cell_type": "code",
      "execution_count": 12,
      "metadata": {
        "id": "XODwoWZ0F7sO"
      },
      "outputs": [],
      "source": [
        "#Code Block : Set the matrix for transition & cost (as relevant for the given problem)\n",
        "\n",
        "\n",
        "# heuristic function = manhattan distance for the given problem\n",
        "# h(n)\n",
        "def heurfunc_hx(nodeObj):\n",
        "    return abs(nodeObj.goal_xpos - nodeObj.xpos) + abs(nodeObj.goal_ypos - nodeObj.ypos)\n",
        "\n",
        "# transition function cost\n",
        "# g(n)\n",
        "def costfunc_gx(nodeObj):\n",
        "  vgx=0\n",
        "  if nodeObj.nodeObstacle == 'N':\n",
        "    vgx=3 # only node movement cost\n",
        "  elif nodeObj.nodeObstacle == 'B':\n",
        "    vgx=4 # node movement cost and bush cost (=3+1)\n",
        "  elif nodeObj.nodeObstacle == 'F':\n",
        "    vgx=8 # node movement cost and Fire cost (=3+5)\n",
        "  else:\n",
        "    vgx=9999 # unknown scenario. high cost is assigned\n",
        "  return vgx\n",
        "\n",
        "# the overall cost for f(n) = g(n)+h(n)\n",
        "def overallCostFunc_fx(nodeObj):\n",
        "    return costfunc_gx(nodeObj) + heurfunc_hx(nodeObj)"
      ]
    },
    {
      "cell_type": "code",
      "execution_count": 13,
      "metadata": {
        "id": "ro24Gaj7F7sO"
      },
      "outputs": [],
      "source": [
        "#Code Block : Write function to design the Transition Model/Successor function. Ideally this would be called while search algorithms are implemented\n",
        "\n",
        "# get the successor from the current cell\n",
        "def getFavarableNode(openset):\n",
        "  ''' get the favarable node and its cost from the openset\n",
        "  '''\n",
        "  # apply node class on each item of openset and get least overall cost function\n",
        "  favarableNode = openset[0].get('item')\n",
        "  favarableNodeCost = openset[0].get('fncost')\n",
        "  favarableParent = openset[0].get('parent')\n",
        "  tmpFavNd = Node(cavegrid[favarableNode[0]][favarableNode[1]],favarableNode,GoalNode,gridsize)\n",
        "\n",
        "  for item in openset:\n",
        "    vitem = item.get('item')\n",
        "    #print(\">>>>>>>>>>>>>>>>>>>>>>>>>>>>>>>>>>>>>>>>>>>>\")\n",
        "    #print(\"Dubug : item => \"+str(item))\n",
        "    tmpNd = Node(cavegrid[vitem[0]][vitem[1]],vitem,GoalNode,gridsize)\n",
        "    #tmpNd.nodeDebugInfo()\n",
        "    if overallCostFunc_fx(tmpNd) < overallCostFunc_fx(tmpFavNd):\n",
        "      tmpFavNd = tmpNd # now the low function cost node is new favourable\n",
        "      favarableNode = vitem\n",
        "      favarableNodeCost = overallCostFunc_fx(tmpNd)\n",
        "      favarableParent = item.get('parent')\n",
        "      #print(\"Debug tmpNd  \"+str(tmpNd.overallCostFunc_fx()))\n",
        "      #print(\"Debug tmpFavNd  \"+str(tmpFavNd.overallCostFunc_fx()))\n",
        "\n",
        "  favarableNodeDict = dict(item=favarableNode, fncost=favarableNodeCost, parent=favarableParent)\n",
        "  #print(\"Dubug : Favarable Node => \"+str(favarableNodeDict))\n",
        "\n",
        "  return favarableNodeDict"
      ]
    },
    {
      "cell_type": "code",
      "execution_count": 14,
      "metadata": {
        "id": "HIVPhrRWF7sO"
      },
      "outputs": [],
      "source": [
        "#Code block : Write fucntion to handle goal test (Must handle dynamic inputs). Ideally this would be called while search algorithms are implemented\n",
        "# if current node x and y position is same as goal position, then return true as goal reached\n",
        "# if the goal node (6,4) is reached, rabbit is out of cave\n",
        "def goalTest(nodeObj):\n",
        "  '''\n",
        "    checking goal test. if both goal and current node position is same then\n",
        "    heuristic value (manahatan disntance) is zero.\n",
        "  '''\n",
        "  if (abs(nodeObj.goal_xpos - nodeObj.xpos) + abs(nodeObj.goal_ypos - nodeObj.ypos)) == 0:\n",
        "    return True\n",
        "  else:\n",
        "    return False"
      ]
    },
    {
      "cell_type": "markdown",
      "metadata": {
        "id": "Z4QwDeX5F7sO"
      },
      "source": [
        "### 2.\tDefinition of Algorithm 1 (A* Algorithm)"
      ]
    },
    {
      "cell_type": "code",
      "source": [
        "# Build Goal path\n",
        "def goalPath(closedset):\n",
        "  goalPathStr=\"\"\n",
        "  goalPathCost=0\n",
        "  firstNode=1\n",
        "  for item in closedset[::-1]:\n",
        "    if firstNode==0:\n",
        "      if parentNode == item.get('item'):\n",
        "        goalPathStr=goalPathStr+\"-->\"+str(item.get('item'))\n",
        "        if item.get('fncost') != 9999:\n",
        "          goalPathCost=goalPathCost+item.get('fncost')\n",
        "        parentNode = item.get('parent')\n",
        "        continue\n",
        "\n",
        "    if firstNode==1:\n",
        "      goalPathStr=goalPathStr+\"-->\"+str(item.get('item'))\n",
        "      if item.get('fncost') != 9999:\n",
        "        goalPathCost=goalPathCost+item.get('fncost')\n",
        "      parentNode = item.get('parent')\n",
        "      firstNode=0\n",
        "      continue\n",
        "\n",
        "  #print(\"Dubug : Goal Path => \"+goalPathStr)\n",
        "  #print(\"Dubug : Goal Path Cost => \"+str(goalPathCost))\n",
        "\n",
        "  return goalPathStr, goalPathCost"
      ],
      "metadata": {
        "id": "S9nX4v0Nv3VQ"
      },
      "execution_count": 15,
      "outputs": []
    },
    {
      "cell_type": "code",
      "execution_count": 16,
      "metadata": {
        "id": "zD_EPCHWF7sO"
      },
      "outputs": [],
      "source": [
        "#Code Block : Function for algorithm 1 implementation\n",
        "# A* Alogrithm\n",
        "\n",
        "def a_star_alog(StartNode, GoalNode ):\n",
        "\n",
        "  # A Start algorithm\n",
        "  openset = [] # open set\n",
        "  closedset = [] # close set\n",
        "\n",
        "  # set start position\n",
        "  # the data structure node diction to keep function cost and node parent details\n",
        "  # eg structure: {'item': (1, 1), 'fncost': 11, 'parent': (0, 0)}\n",
        "  startNdDict = dict(item=StartNode,fncost=9999,parent=None)\n",
        "  openset.append(startNdDict)\n",
        "  #print(\"Dubug : Openset at Starting position => \"+str(openset))\n",
        "  #print(\"Dubug : Closedset at Starting position => \"+str(closedset))\n",
        "\n",
        "  i=0\n",
        "  while(len(openset)>0):  # if there is cell in openset\n",
        "  #for i in range(12): # temp loop\n",
        "    #print(\"-------------------------------------------------\")\n",
        "    i=i+1\n",
        "    #print(\"Interation ---->\",i)\n",
        "    #print(\"-------------------------------------------------\")\n",
        "    #print(\"clsed set......\"+str(closedset))\n",
        "    # get first value of openset for exploration\n",
        "\n",
        "    favNdDict = getFavarableNode(openset)\n",
        "    #print(\"Dubug : Favarable Node Object => \"+str(favNdDict))\n",
        "    currNd = Node(cavegrid[favNdDict.get('item')[0]][favNdDict.get('item')[1]],favNdDict.get('item'),GoalNode,gridsize)\n",
        "    #currNd.nodeDebugInfo()\n",
        "\n",
        "    pathStr=\"\"\n",
        "    pathCost=0\n",
        "    # check if current node is goal node or not\n",
        "    isGoalNode = goalTest(currNd)\n",
        "    if isGoalNode:\n",
        "      #print(\"Goal Node Found\")\n",
        "      tmpNdDict = dict(item=favNdDict.get('item'),fncost=favNdDict.get('fncost'),parent=favNdDict.get('parent'))\n",
        "      closedset.append(tmpNdDict)\n",
        "      goalPathStr, goalPathCost = goalPath(closedset)\n",
        "      return \"PathFound\", goalPathStr[3:], goalPathCost\n",
        "\n",
        "    # remove currND from openset and add to closeset\n",
        "    openset.remove(favNdDict)\n",
        "    closedset.append(favNdDict)\n",
        "    #print(\"Dubug : ** Openset after removing current node => \"+str(openset))\n",
        "    #print(\"Dubug : #### Closedset after adding current node => \"+str(closedset))\n",
        "\n",
        "    # potential neigbors\n",
        "    potentialNeigbors = currNd.getNeigbors()\n",
        "    #print(\"Dubug : Potential Neigbors => \"+str(potentialNeigbors))\n",
        "\n",
        "    tmpset=[]\n",
        "    # add potential neigbors to openset\n",
        "    for item in potentialNeigbors:\n",
        "      tmpNd = Node(cavegrid[item[0]][item[1]],item,GoalNode,gridsize)\n",
        "      tmpNdDict = dict(item=item,fncost=overallCostFunc_fx(tmpNd),parent=favNdDict.get('item'))\n",
        "      tmpset.append(tmpNdDict)\n",
        "\n",
        "    # check if tmpset item value is equal to closedset item value, if not add to openset\n",
        "    t1 = [x for x in tmpset if x.get('item') not in [y.get('item') for y in closedset]]\n",
        "    openset = openset + t1\n",
        "    #print(\"Dubug : ## Openset after adding potential Neigbors => \"+str(openset))\n",
        "\n",
        "    # todo - check for no potential neigbors\n",
        "    if len(openset)<=0:\n",
        "        print(\"Goal Node Not Found. No poential neigbors. openset is empty\")\n",
        "        return  \"No path found\", pathStr, pathCost\n",
        "\n",
        "  return \"NoPathFound\", pathStr, pathCost"
      ]
    },
    {
      "cell_type": "markdown",
      "metadata": {
        "id": "KnbdDl6HF7sO"
      },
      "source": [
        "### 3.\tDefinition of Algorithm 2 (random start hill climbing)"
      ]
    },
    {
      "cell_type": "code",
      "execution_count": 17,
      "metadata": {
        "id": "3HYh7-eJF7sP"
      },
      "outputs": [],
      "source": [
        "#Code Block : Function for algorithm 2 implementation\n",
        "\n",
        "# start hill climbing alog\n",
        "def hill_climbing_alog(StartNode, GoalNode):\n",
        "\n",
        "  # Hill Climbing Alog\n",
        "  visitedset = [] # close set\n",
        "  vistingNode = StartNode # Starting at random node\n",
        "  path=\"\"\n",
        "  pathCost=0\n",
        "  for i in range(15): # restricting to max number of interations\n",
        "    #print(\"-------------------------------------------------\")\n",
        "    #print(\"Interation ---->\",i)\n",
        "    #print(\"-------------------------------------------------\")\n",
        "\n",
        "    # get the node details\n",
        "    vistingNodeDtls = Node(cavegrid[vistingNode[0]][vistingNode[1]],vistingNode,GoalNode,gridsize)\n",
        "    #vistingNodeDtls.nodeDebugInfo()\n",
        "\n",
        "    # add the visiting Node item current position\n",
        "    visitedset.append(vistingNodeDtls.currNodePos)\n",
        "    #print(\"Dubug : Visitedset position after adding current node => \"+str(visitedset))\n",
        "\n",
        "    path=path+\"-->\"+str(vistingNodeDtls.currNodePos);\n",
        "    #print(\"Debug - Path String : \"+path)\n",
        "\n",
        "    # check if current node is goal node or not\n",
        "    isGoalNode = goalTest(vistingNodeDtls)\n",
        "\n",
        "    if isGoalNode:\n",
        "      #print(\"Goal Node Found\")\n",
        "      return \"PathFound\", path[3:], pathCost\n",
        "\n",
        "    # get potential neigbors of visiting node\n",
        "    potentialNeigbors = vistingNodeDtls.getNeigbors()\n",
        "    #print(\"Dubug : Potential Neigbors => \"+str(potentialNeigbors))\n",
        "\n",
        "    # check if the potential neigbors is in visited set, if ignore the item\n",
        "    potentialNeigbors = [x for x in potentialNeigbors if x not in visitedset]\n",
        "    #print(\"Dubug : Potential Neigbors after ignoring visited set => \"+str(potentialNeigbors))\n",
        "\n",
        "    # evaluate the potential neigbors cost function and select neigbor with low cost function\n",
        "    tmpcost=9999\n",
        "    for item in potentialNeigbors:\n",
        "      tmpNd = Node(cavegrid[item[0]][item[1]],item,GoalNode,gridsize)\n",
        "      #print(\">>>>>>>>>>>>> Debug - Item\"+str(item))\n",
        "      #print(\">>>>>>>>>>>>> Debug - tmpNd\"+str(tmpNd.overallCostFunc_fx()))\n",
        "      #print(\">>>>>>>>>>>>> Debug - tmpcost\"+str(tmpcost))\n",
        "      if overallCostFunc_fx(tmpNd) < tmpcost: # if minial cost, select new node as better negibor\n",
        "        vistingNodeDtls = tmpNd\n",
        "        vistingNode = item\n",
        "        tmpcost = overallCostFunc_fx(tmpNd)\n",
        "        #print(\">>>>>>>> Change in visiting node\")\n",
        "\n",
        "      if overallCostFunc_fx(tmpNd) == tmpcost: # if equal cost, select a random neibor\n",
        "        # select randomly either vistingnoe or item\n",
        "        r = random.randint(0,1)\n",
        "        if r==0:\n",
        "          vistingNodeDtls = tmpNd\n",
        "          vistingNode = item\n",
        "          tmpcost = overallCostFunc_fx(tmpNd)\n",
        "         #print(\">>>>>>>> Change in visiting node\")\n",
        "\n",
        "    pathCost=pathCost+ overallCostFunc_fx(vistingNodeDtls)\n",
        "    #print(\"Debug - Path Cost : \"+str(pathCost))\n",
        "    #print(\"curreent.. node cost\"+str(vistingNodeDtls.overallCostFunc_fx()))\n",
        "    #print(\"current ...Visting node : \"+str(vistingNode))\n",
        "\n",
        "\n",
        "    #print(\"Debug - New visiting node \"+str(vistingNode))\n",
        "\n",
        "  return \"Nopathfound\", path, pathCost\n",
        "\n",
        "# call hill climbing\n",
        "#hill_climbing_alog()\n",
        "\n",
        "# random start hill climbing alog\n",
        "def random_start_hill_climbing_alog(StartNode, GoalNode, NumberOfRestarts):\n",
        "\n",
        "  bestpath=\"\"\n",
        "  bestCost=0\n",
        "\n",
        "  no_of_restart=NumberOfRestarts\n",
        "\n",
        "  for i in range(no_of_restart):\n",
        "    print(\"-------------------------------------------------\")\n",
        "    print(\"Random Start Interation ==>\",i)\n",
        "    status, path, pathcost = hill_climbing_alog(StartNode, GoalNode)\n",
        "    print(\"Status ==>\",status)\n",
        "    print(\"Path ==>\",path)\n",
        "    print(\"Path Cost ==>\",pathcost)\n",
        "    if status==\"PathFound\":\n",
        "      if bestpath==\"\":\n",
        "        bestpath=path\n",
        "        bestCost=pathcost\n",
        "      elif pathcost < bestCost:\n",
        "        bestpath=path\n",
        "        bestCost=pathcost\n",
        "    print(\"-------------------------------------------------\")\n",
        "\n",
        "  #print(\">>>>>>>>>>>>>>>>>>>>>>>>>>>>>>>>>>>>>>>>>>>>>>>>>>>\")\n",
        "  print(\"\\n\\n\\n\")\n",
        "  print(\"Best Path ==>\",bestpath)\n",
        "  print(\"Best Path Cost ==>\",bestCost)\n"
      ]
    },
    {
      "cell_type": "markdown",
      "metadata": {
        "id": "LEV2XHccF7sP"
      },
      "source": [
        "### DYNAMIC INPUT"
      ]
    },
    {
      "cell_type": "markdown",
      "metadata": {
        "id": "CylYRo_DF7sP"
      },
      "source": [
        "IMPORTANT : Dynamic Input must be got in this section. Display the possible states to choose from:\n",
        "This is applicable for all the relevent problems as mentioned in the question."
      ]
    },
    {
      "cell_type": "code",
      "execution_count": 18,
      "metadata": {
        "id": "Q5t1Lc-wF7sP",
        "colab": {
          "base_uri": "https://localhost:8080/"
        },
        "outputId": "8c0c36be-df2c-41d0-99c8-912fbaa5e3db"
      },
      "outputs": [
        {
          "output_type": "stream",
          "name": "stdout",
          "text": [
            "Debug  initial state (0, 2)\n"
          ]
        }
      ],
      "source": [
        "#Code Block : Function & call to get inputs (start/end state)\n",
        "\n",
        "# the Starting position of the Rabbit is at 0,2 postion of cave/Grid, as given in the problem\n",
        "StartNode = (0,2)\n",
        "\n",
        "# The goal postion where the Rabbit needs go to move out of cave\n",
        "GoalNode = (6,4)\n",
        "\n",
        "# node object of the initial state, at start node = (0,2) position\n",
        "initState = initState(StartNode)\n",
        "print(\"Debug  initial state \"+str(initState.currNodePos))\n",
        "\n",
        "# number of restarts for random restart hill climbing alog\n",
        "NumberOfRestarts=4"
      ]
    },
    {
      "cell_type": "markdown",
      "metadata": {
        "id": "xsfOP81lF7sP"
      },
      "source": [
        "### 4.\tCalling the search algorithms\n",
        "(For bidirectional search in below sections first part can be used as per Hint provided. Under second section other combinations as per Hint or your choice of 2 algorithms can be called .As an analyst suggest suitable approximation in the comparitive analysis section)"
      ]
    },
    {
      "cell_type": "code",
      "execution_count": 19,
      "metadata": {
        "id": "Og5zI9thF7sP",
        "colab": {
          "base_uri": "https://localhost:8080/"
        },
        "outputId": "76799893-a120-479f-bf40-45b7ad8b04ec"
      },
      "outputs": [
        {
          "output_type": "stream",
          "name": "stdout",
          "text": [
            " Path Found Status ==>  PathFound\n",
            " Path string       ==>  (6, 4)-->(5, 4)-->(4, 4)-->(4, 3)-->(4, 2)-->(3, 2)-->(2, 2)-->(1, 2)-->(0, 2)\n",
            " path cost         ==>  52\n"
          ]
        }
      ],
      "source": [
        "#Invoke algorithm 1 (Should Print the solution, path, cost etc., (As mentioned in the problem))\n",
        "# A* Alog call\n",
        "status, pathstr, pathcost = a_star_alog(StartNode, GoalNode )\n",
        "print(\" Path Found Status ==>  \"+str(status))\n",
        "print(\" Path string       ==>  \"+str(pathstr))\n",
        "print(\" path cost         ==>  \"+str(pathcost))"
      ]
    },
    {
      "cell_type": "code",
      "execution_count": 20,
      "metadata": {
        "id": "u3MJeA6eF7sP",
        "colab": {
          "base_uri": "https://localhost:8080/"
        },
        "outputId": "f38c6b77-af5f-4b3c-84f0-21d807a4845d"
      },
      "outputs": [
        {
          "output_type": "stream",
          "name": "stdout",
          "text": [
            "-------------------------------------------------\n",
            "Random Start Interation ==> 0\n",
            "Status ==> PathFound\n",
            "Path ==> (0, 2)-->(1, 2)-->(2, 2)-->(3, 2)-->(4, 2)-->(4, 3)-->(4, 4)-->(5, 4)-->(6, 4)\n",
            "Path Cost ==> 52\n",
            "-------------------------------------------------\n",
            "-------------------------------------------------\n",
            "Random Start Interation ==> 1\n",
            "Status ==> PathFound\n",
            "Path ==> (0, 2)-->(1, 2)-->(1, 3)-->(1, 4)-->(2, 4)-->(2, 5)-->(3, 5)-->(3, 4)-->(3, 3)-->(4, 3)-->(4, 4)-->(5, 4)-->(6, 4)\n",
            "Path Cost ==> 81\n",
            "-------------------------------------------------\n",
            "-------------------------------------------------\n",
            "Random Start Interation ==> 2\n",
            "Status ==> PathFound\n",
            "Path ==> (0, 2)-->(1, 2)-->(2, 2)-->(3, 2)-->(4, 2)-->(4, 3)-->(4, 4)-->(5, 4)-->(6, 4)\n",
            "Path Cost ==> 52\n",
            "-------------------------------------------------\n",
            "-------------------------------------------------\n",
            "Random Start Interation ==> 3\n",
            "Status ==> PathFound\n",
            "Path ==> (0, 2)-->(1, 2)-->(1, 3)-->(1, 4)-->(2, 4)-->(2, 5)-->(3, 5)-->(3, 4)-->(3, 3)-->(4, 3)-->(4, 4)-->(5, 4)-->(6, 4)\n",
            "Path Cost ==> 81\n",
            "-------------------------------------------------\n",
            "\n",
            "\n",
            "\n",
            "\n",
            "Best Path ==> (0, 2)-->(1, 2)-->(2, 2)-->(3, 2)-->(4, 2)-->(4, 3)-->(4, 4)-->(5, 4)-->(6, 4)\n",
            "Best Path Cost ==> 52\n"
          ]
        }
      ],
      "source": [
        "#Invoke algorithm 2 (Should Print the solution, path, cost etc., (As mentioned in the problem))\n",
        "\n",
        "# call random start hill climbing\n",
        "random_start_hill_climbing_alog(StartNode, GoalNode, NumberOfRestarts)"
      ]
    },
    {
      "cell_type": "markdown",
      "metadata": {
        "id": "TOU3Rem6F7sQ"
      },
      "source": [
        "### 5.\tComparitive Analysis (Time and Space Complexity)"
      ]
    },
    {
      "cell_type": "code",
      "execution_count": 21,
      "metadata": {
        "id": "HG6fWwiIF7sQ"
      },
      "outputs": [],
      "source": [
        "#Code Block : Print the Time & Space complexity of algorithm 1"
      ]
    },
    {
      "cell_type": "code",
      "execution_count": 22,
      "metadata": {
        "id": "xMButLKCF7sQ"
      },
      "outputs": [],
      "source": [
        "#Code Block : Print the Time & Space complexity of algorithm 2"
      ]
    },
    {
      "cell_type": "markdown",
      "metadata": {
        "id": "y2nXwAlsF7sQ"
      },
      "source": [
        "### 6.\tProvide your comparitive analysis or findings in no more than 3 lines in below section"
      ]
    },
    {
      "cell_type": "markdown",
      "metadata": {
        "id": "si483-zoF7sQ"
      },
      "source": [
        "Comparison : _______________________________________________\n",
        "\n",
        "________________________________________________________\n",
        "\n",
        "_________________________________________________________"
      ]
    }
  ],
  "metadata": {
    "kernelspec": {
      "display_name": "Python 3",
      "language": "python",
      "name": "python3"
    },
    "language_info": {
      "codemirror_mode": {
        "name": "ipython",
        "version": 3
      },
      "file_extension": ".py",
      "mimetype": "text/x-python",
      "name": "python",
      "nbconvert_exporter": "python",
      "pygments_lexer": "ipython3",
      "version": "3.7.6"
    },
    "colab": {
      "provenance": [],
      "include_colab_link": true
    }
  },
  "nbformat": 4,
  "nbformat_minor": 0
}