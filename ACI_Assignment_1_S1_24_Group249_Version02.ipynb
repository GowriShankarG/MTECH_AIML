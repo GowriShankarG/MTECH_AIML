{
  "cells": [
    {
      "cell_type": "markdown",
      "metadata": {
        "id": "view-in-github",
        "colab_type": "text"
      },
      "source": [
        "<a href=\"https://colab.research.google.com/github/GowriShankarG/MTech_AIML/blob/master/ACI_Assignment_1_S1_24_Group249_Version02.ipynb\" target=\"_parent\"><img src=\"https://colab.research.google.com/assets/colab-badge.svg\" alt=\"Open In Colab\"/></a>"
      ]
    },
    {
      "cell_type": "markdown",
      "metadata": {
        "id": "MzZ4dJQYF7sH"
      },
      "source": [
        "# Artificial and Computational Intelligence Assignment 1"
      ]
    },
    {
      "cell_type": "markdown",
      "metadata": {
        "id": "Fxb1aE9zF7sK"
      },
      "source": [
        "## Problem solving by Uninformed & Informed Search"
      ]
    },
    {
      "cell_type": "markdown",
      "metadata": {
        "id": "h35jIBbCF7sK"
      },
      "source": [
        "List all the team members BITS ID ,Name along with % of contribution in this\n",
        "\n",
        "\n",
        "#### Group 249\n",
        "|SNo| Bits ID | Name | % Contribution |\n",
        "|:-:|:------:|:----:|:--------------:|\n",
        "|1| 2024AB05215|ABHINETRI UPPALA| 100%|\n",
        "|2| 2024AB05212 | GOWRISHANKAR | 100%|\n",
        "|3| 2024AB05213 | ADI SATHWIK | 100%|\n",
        "|4| 2024AB05216 | SWAPNIL BHUSHAN VERMA | 100%|\n",
        "|5| 2024AB05214 | ANAND | 100%|"
      ]
    },
    {
      "cell_type": "markdown",
      "source": [
        "### Problem Statement 22\n",
        "#### Rabbit rescue by Robot Agent through a 2D grid"
      ],
      "metadata": {
        "id": "uZ5t66_GyTWG"
      }
    },
    {
      "cell_type": "markdown",
      "metadata": {
        "id": "wZfop5ElF7sL"
      },
      "source": [
        "## *==> Coding begins here*"
      ]
    },
    {
      "cell_type": "markdown",
      "metadata": {
        "id": "IL0QDMy3F7sL"
      },
      "source": [
        "## 1.\tDefine the environment in the following block"
      ]
    },
    {
      "cell_type": "markdown",
      "metadata": {
        "id": "RYwJPNLIF7sM"
      },
      "source": [
        "### Instruction : List the PEAS decription of the problem here in this markdown block"
      ]
    },
    {
      "cell_type": "markdown",
      "source": [
        "### PEAS Description\n",
        "\n",
        "#### Performance : Reach goal with minimal path cost and avoid fire penalties\n",
        "#### Environment : 2D grid with initial entry position, goal position, fire, bushes and wall maze\n",
        "#### Actuators : Move in four directions. Up , Down, Left, Right [or] North, South, East, West\n",
        "#### Sensors : Test for fire, bushes, walls and blank spaces. Every move agent has to check for goal position"
      ],
      "metadata": {
        "id": "N3vS1q9Ayr2a"
      }
    },
    {
      "cell_type": "markdown",
      "source": [
        "### Task Environment\n",
        "##### The task environment for this problem is a grid-based cave rescue scenario, where a robot navigates a 2D grid to help a rabbit find an optimal path to safety.\n",
        "\n",
        "#### Key Characteristics of the Task Environment:\n",
        "\n",
        "##### Observable – The robot has complete knowledge of the cave layout, walls, and obstacles.\n",
        "##### Deterministic – The movement and costs are predefined (no randomness in transitions).\n",
        "##### Static – The environment does not change during execution.\n",
        "##### Discrete – The grid consists of distinct cells with specific movement rules.\n",
        "##### Sequential – Each move affects future states, requiring careful path planning."
      ],
      "metadata": {
        "id": "5_7B-7KSyyNC"
      }
    },
    {
      "cell_type": "markdown",
      "source": [
        "### A* (A-Star)\n",
        "\n",
        "#### An informed search algorithm that finds the shortest path by combining the actual cost from the start and a heuristic estimate to the goal, ensuring optimal and efficient pathfinding.\n",
        "\n",
        "## Random Restart Hill Climbing\n",
        "\n",
        "#### A local search algorithm that repeatedly starts from random points, greedily moving toward the best neighbor, but it can get stuck in local optima, making it less reliable for complex pathfinding."
      ],
      "metadata": {
        "id": "Zetuaawdy8Lc"
      }
    },
    {
      "cell_type": "markdown",
      "metadata": {
        "id": "XJ3cHp1IF7sM"
      },
      "source": [
        "### Instruction : Design the agent as PSA Agent(Problem Solving Agent)\n",
        "Clear Initial data structures to define the graph and variable declarations is expected\n",
        "\n",
        "IMPORTATANT: Write distinct code block as below"
      ]
    },
    {
      "cell_type": "markdown",
      "source": [
        "## 1.1 Define the environment in the following block - Code Begin"
      ],
      "metadata": {
        "id": "XFsgPdmL0fvn"
      }
    },
    {
      "cell_type": "code",
      "source": [
        "# Import requried libraries\n",
        "import random\n",
        "import resource\n",
        "import time\n",
        "import random\n",
        "import sys"
      ],
      "metadata": {
        "id": "gAlERCWx4q5j"
      },
      "execution_count": 1,
      "outputs": []
    },
    {
      "cell_type": "code",
      "source": [
        "# Initial Data strucuture for matrix cave for the use case and variables\n",
        "\n",
        "# the following matix represent grid structure of the cave given in the problem\n",
        "# each cell data the data properties of the cel\n",
        "# ### first 4 digits of the cell provide wall details in each direction () west,east, north,south)\n",
        "# ### if wall then = 1, if no wall = 0\n",
        "# ### fifth digit of the cell represent the Fire = F, Bush = B or None = N\n",
        "cavegrid = [\n",
        "  ['1010B', '0011N', '0100N', '1011N', '0011N', '0110F'],\n",
        "  ['1100N', '1110N', '1000N', '0011N', '0110B', '1100N'],\n",
        "  ['1100N', '1001N', '0100N', '1011F', '0001N', '0100N'],\n",
        "  ['1000N', '0111F', '1100N', '1010N', '0011N', '0101N'],\n",
        "  ['1100N', '1010B', '0001N', '0001N', '0010N', '0110B'],\n",
        "  ['1101N', '1000N', '0011N', '0110N', '1100N', '1100N'],\n",
        "  ['1011N', '0101N', '1011N', '0001N', '0100N', '1101N']\n",
        "  ]\n",
        "\n",
        "\n",
        "# Size of cave / GridSize\n",
        "gridsize = (len(cavegrid),len(cavegrid[0]))\n",
        "#print(\"Dubug : cave grid size => \"+str(gridsize))"
      ],
      "metadata": {
        "id": "I5VneewropfZ"
      },
      "execution_count": 2,
      "outputs": []
    },
    {
      "cell_type": "code",
      "source": [
        "# Defining Node class to derive various objectives\n",
        "# CaveGrid Cell details\n",
        "class Node:\n",
        "    '''\n",
        "    class to provide the details of the node in the cave grid\n",
        "    '''\n",
        "    def __init__(self, nodeDtls, currNodePos, goalNodePos, gridSize):\n",
        "        self.nodeWallDtl = nodeDtls[0:4] # first 4 digits for west,east, north,south wall info\n",
        "        self.nodeObstacle = nodeDtls[4:5]\n",
        "        self.currNodePos = currNodePos\n",
        "        self.xpos = currNodePos[0]\n",
        "        self.ypos = currNodePos[1]\n",
        "        self.goal_xpos = goalNodePos[0]\n",
        "        self.goal_ypos = goalNodePos[1]\n",
        "        self.grid_rows = gridSize[0]\n",
        "        self.grid_cols = gridSize[1]\n",
        "\n",
        "    def isWestSideAllowed(self):\n",
        "        if self.nodeWallDtl[0] == '1': # 1 digit for West\n",
        "            return False\n",
        "        else:\n",
        "            return True\n",
        "\n",
        "    def isEastSideAllowed(self):\n",
        "        if self.nodeWallDtl[1] == '1': # 2 digit for East\n",
        "            return False\n",
        "        else:\n",
        "            return True\n",
        "\n",
        "    def isNorthSideAllowed(self):\n",
        "        if self.nodeWallDtl[2] == '1': # 3 digit for North\n",
        "            return False\n",
        "        else:\n",
        "            return True\n",
        "\n",
        "    def isSouthSideAllowed(self):\n",
        "        if self.nodeWallDtl[3] == '1': # 4 digit for South\n",
        "            return False\n",
        "        else:\n",
        "            return True\n",
        "\n",
        "\n",
        "    def getNeigbors(self):\n",
        "      ''' get the neigbors of the current node\n",
        "      '''\n",
        "      westNeigbor = (self.xpos, self.ypos-1)\n",
        "      eastNeigbor = (self.xpos, self.ypos+1)\n",
        "      northNeigbor = (self.xpos-1, self.ypos)\n",
        "      southNeigbor = (self.xpos+1, self.ypos)\n",
        "\n",
        "      # checking if the neigbors are out of grid size and if any wall exists\n",
        "      # ignore neibor if it is outside of the grid and wall exits\n",
        "      #print( \"negibor values before  checking grid ==>\"+str(westNeigbor)+\",\"+str(eastNeigbor)+\",\"+str(northNeigbor)+\",\"+str(southNeigbor))\n",
        "      if ((westNeigbor[0] < 0 or westNeigbor[0] >= self.grid_rows or westNeigbor[1] < 0 or westNeigbor[1] >= self.grid_cols) or (self.isWestSideAllowed()==False)):\n",
        "        westNeigbor = None\n",
        "\n",
        "      if (eastNeigbor[0] < 0 or eastNeigbor[0] >= self.grid_rows or eastNeigbor[1] < 0 or eastNeigbor[1] >= self.grid_cols or (self.isEastSideAllowed() == False)):\n",
        "        eastNeigbor = None\n",
        "\n",
        "      if (northNeigbor[0] < 0 or northNeigbor[0] >= self.grid_rows or northNeigbor[1] < 0 or northNeigbor[1] >= self.grid_cols or (self.isNorthSideAllowed() == False)):\n",
        "        northNeigbor = None\n",
        "\n",
        "      if (southNeigbor[0] < 0 or southNeigbor[0] >= self.grid_rows or southNeigbor[1] < 0 or southNeigbor[1] >= self.grid_cols or (self.isSouthSideAllowed() == False)):\n",
        "        southNeigbor = None\n",
        "\n",
        "      neibors = [westNeigbor,eastNeigbor,northNeigbor,southNeigbor]\n",
        "      # remove neibors with values as none\n",
        "      neibors = [x for x in neibors if x is not None]\n",
        "\n",
        "      return neibors\n",
        "\n",
        "\n",
        "    def nodeDebugInfo(self):\n",
        "        '''\n",
        "        node info for debugging purpose\n",
        "        '''\n",
        "        print(\"        -----------------------------------------[DEBUG]--------------------------------------------------------------------------\")\n",
        "        print(\"        \")\n",
        "        print(\"        Current Node Position     ==> (\"+str(self.xpos)+\",\"+str(self.ypos)+\")\")\n",
        "        print(\"        Node wall Info           ==> \"+self.nodeWallDtl)\n",
        "        print(\"        Node Obstacle Info       ==> \"+self.nodeObstacle)\n",
        "        print(\"        Goal Node Position        ==> (\"+str(self.goal_xpos)+\",\"+str(self.goal_ypos)+\")\")\n",
        "        print(\"        Is West side allowed     ==> \"+str(self.isWestSideAllowed()))\n",
        "        print(\"        Is East side allowed     ==> \"+str(self.isEastSideAllowed()))\n",
        "        print(\"        Is North side allowed    ==> \"+str(self.isNorthSideAllowed()))\n",
        "        print(\"        Is South side allowed    ==> \"+str(self.isSouthSideAllowed()))\n",
        "        print(\"         -----------------------North->\"+str(self.isNorthSideAllowed())+\"<------------------------------\")\n",
        "        print(\"             West->\"+str(self.isWestSideAllowed())+\"<                       EAST->\"+str(self.isEastSideAllowed())+\"<  \")\n",
        "        print(\"         -----------------------South->\"+str(self.isSouthSideAllowed())+\"<------------------------------\")\n",
        "        print(\"        \")\n",
        "        print(\"        ---------------------------------------[END DEBUG]----------------------------------------------------------------------------\")\n",
        "        return"
      ],
      "metadata": {
        "id": "IfwsksB_qx4N"
      },
      "execution_count": 3,
      "outputs": []
    },
    {
      "cell_type": "code",
      "source": [
        "#Instruction -> Code Block : Set Initial State (Must handle dynamic inputs)\n",
        "\n",
        "# node object of the initial state, at start node = (0,2) position\n",
        "def initState(StartNode):\n",
        "  return Node(cavegrid[StartNode[0]][StartNode[1]], StartNode, GoalNode, (len(cavegrid),len(cavegrid[0])))\n"
      ],
      "metadata": {
        "id": "bFeLPw8Fta7i"
      },
      "execution_count": 4,
      "outputs": []
    },
    {
      "cell_type": "code",
      "execution_count": 5,
      "metadata": {
        "id": "XODwoWZ0F7sO"
      },
      "outputs": [],
      "source": [
        "#Instruction -> Code Block : Set the matrix for transition & cost (as relevant for the given problem)\n",
        "\n",
        "\n",
        "# heuristic function = manhattan distance for the given problem\n",
        "# h(n)\n",
        "def heurfunc_hx(nodeObj):\n",
        "    return abs(nodeObj.goal_xpos - nodeObj.xpos) + abs(nodeObj.goal_ypos - nodeObj.ypos)\n",
        "\n",
        "# transition function cost\n",
        "# g(n)\n",
        "def costfunc_gx(nodeObj):\n",
        "  vgx=0\n",
        "  if nodeObj.nodeObstacle == 'N':\n",
        "    vgx=3 # only node movement cost\n",
        "  elif nodeObj.nodeObstacle == 'B':\n",
        "    vgx=4 # node movement cost and bush cost (=3+1)\n",
        "  elif nodeObj.nodeObstacle == 'F':\n",
        "    vgx=8 # node movement cost and Fire cost (=3+5)\n",
        "  else:\n",
        "    vgx=9999 # unknown scenario. high cost is assigned\n",
        "  return vgx\n",
        "\n",
        "# the overall cost for f(n) = g(n)+h(n)\n",
        "def overallCostFunc_fx(nodeObj):\n",
        "    return costfunc_gx(nodeObj) + heurfunc_hx(nodeObj)"
      ]
    },
    {
      "cell_type": "code",
      "execution_count": 6,
      "metadata": {
        "id": "ro24Gaj7F7sO"
      },
      "outputs": [],
      "source": [
        "#Insturction -> Code Block : Write function to design the Transition Model/Successor function. Ideally this would be called while search algorithms are implemented\n",
        "\n",
        "# get the successor from the current cell\n",
        "def getFavarableNode(openset):\n",
        "  ''' get the favarable node and its cost from the openset\n",
        "  '''\n",
        "  # apply node class on each item of openset and get least overall cost function\n",
        "  favarableNode = openset[0].get('item')\n",
        "  favarableNodeCost = openset[0].get('fncost')\n",
        "  favarableParent = openset[0].get('parent')\n",
        "  tmpFavNd = Node(cavegrid[favarableNode[0]][favarableNode[1]],favarableNode,GoalNode,gridsize)\n",
        "\n",
        "  for item in openset:\n",
        "    vitem = item.get('item')\n",
        "    #print(\">>>>>>>>>>>>>>>>>>>>>>>>>>>>>>>>>>>>>>>>>>>>\")\n",
        "    #print(\"Dubug : item => \"+str(item))\n",
        "    tmpNd = Node(cavegrid[vitem[0]][vitem[1]],vitem,GoalNode,gridsize)\n",
        "    #tmpNd.nodeDebugInfo()\n",
        "    if overallCostFunc_fx(tmpNd) < overallCostFunc_fx(tmpFavNd):\n",
        "      tmpFavNd = tmpNd # now the low function cost node is new favourable\n",
        "      favarableNode = vitem\n",
        "      favarableNodeCost = overallCostFunc_fx(tmpNd)\n",
        "      favarableParent = item.get('parent')\n",
        "      #print(\"Debug tmpNd  \"+str(tmpNd.overallCostFunc_fx()))\n",
        "      #print(\"Debug tmpFavNd  \"+str(tmpFavNd.overallCostFunc_fx()))\n",
        "\n",
        "  favarableNodeDict = dict(item=favarableNode, fncost=favarableNodeCost, parent=favarableParent)\n",
        "  #print(\"Dubug : Favarable Node => \"+str(favarableNodeDict))\n",
        "\n",
        "  return favarableNodeDict"
      ]
    },
    {
      "cell_type": "code",
      "execution_count": 7,
      "metadata": {
        "id": "HIVPhrRWF7sO"
      },
      "outputs": [],
      "source": [
        "#Instruction -> Code block : Write fucntion to handle goal test (Must handle dynamic inputs). Ideally this would be called while search algorithms are implemented\n",
        "# if current node x and y position is same as goal position, then return true as goal reached\n",
        "# if the goal node (6,4) is reached, rabbit is out of cave\n",
        "def goalTest(nodeObj):\n",
        "  '''\n",
        "    checking goal test. if both goal and current node position is same then\n",
        "    heuristic value (manahatan disntance) is zero.\n",
        "  '''\n",
        "  if (abs(nodeObj.goal_xpos - nodeObj.xpos) + abs(nodeObj.goal_ypos - nodeObj.ypos)) == 0:\n",
        "    return True\n",
        "  else:\n",
        "    return False"
      ]
    },
    {
      "cell_type": "markdown",
      "metadata": {
        "id": "Z4QwDeX5F7sO"
      },
      "source": [
        "## 2.\tDefinition of Algorithm 1 (A* Algorithm)\n",
        "\n",
        "An informed search algorithm that finds the shortest path by combining the actual cost from the start and a heuristic estimate to the goal, ensuring optimal and efficient pathfinding."
      ]
    },
    {
      "cell_type": "code",
      "execution_count": 8,
      "metadata": {
        "id": "zD_EPCHWF7sO"
      },
      "outputs": [],
      "source": [
        "# Insturction -> Code Block : Function for algorithm 1 implementation\n",
        "\n",
        "# Build Goal path fucntion created which used in A* Alogirthm\n",
        "def goalPath(closedset):\n",
        "  '''\n",
        "    goalpath to build the final path after reaching the goal node\n",
        "  '''\n",
        "  goalPathStr=\"\"\n",
        "  goalPathCost=0\n",
        "  firstNode=1\n",
        "  for item in closedset[::-1]:\n",
        "    if firstNode==0:\n",
        "      if parentNode == item.get('item'):\n",
        "        goalPathStr=goalPathStr+\"-->\"+str(item.get('item'))\n",
        "        if item.get('fncost') != 9999:\n",
        "          goalPathCost=goalPathCost+item.get('fncost')\n",
        "        parentNode = item.get('parent')\n",
        "        continue\n",
        "\n",
        "    if firstNode==1:\n",
        "      goalPathStr=goalPathStr+\"-->\"+str(item.get('item'))\n",
        "      if item.get('fncost') != 9999:\n",
        "        goalPathCost=goalPathCost+item.get('fncost')\n",
        "      parentNode = item.get('parent')\n",
        "      firstNode=0\n",
        "      continue\n",
        "\n",
        "  #print(\"Dubug : Goal Path => \"+goalPathStr)\n",
        "  #print(\"Dubug : Goal Path Cost => \"+str(goalPathCost))\n",
        "\n",
        "  return goalPathStr, goalPathCost\n",
        "\n",
        "\n",
        "# A* Alogrithm\n",
        "\n",
        "def a_star_alog(StartNode, GoalNode ):\n",
        "\n",
        "  print(\"\\n\\n---------  Start a star search -------------------\\n\\n\")\n",
        "  # A Start algorithm\n",
        "  openset = [] # open set\n",
        "  closedset = [] # close set\n",
        "\n",
        "  # set start position\n",
        "  # the data structure node diction to keep function cost and node parent details\n",
        "  # eg structure: {'item': (1, 1), 'fncost': 11, 'parent': (0, 0)}\n",
        "  startNdDict = dict(item=StartNode,fncost=9999,parent=None)\n",
        "  openset.append(startNdDict)\n",
        "  #print(\"Dubug : Openset at Starting position => \"+str(openset))\n",
        "  #print(\"Dubug : Closedset at Starting position => \"+str(closedset))\n",
        "\n",
        "  i=0\n",
        "  while(len(openset)>0):  # if there is cell in openset\n",
        "  #for i in range(12): # temp loop\n",
        "    #print(\"-------------------------------------------------\")\n",
        "    i=i+1\n",
        "    #print(\"Interation ---->\",i)\n",
        "    #print(\"-------------------------------------------------\")\n",
        "    #print(\"clsed set......\"+str(closedset))\n",
        "    # get first value of openset for exploration\n",
        "\n",
        "    favNdDict = getFavarableNode(openset)\n",
        "    #print(\"Dubug : Favarable Node Object => \"+str(favNdDict))\n",
        "    currNd = Node(cavegrid[favNdDict.get('item')[0]][favNdDict.get('item')[1]],favNdDict.get('item'),GoalNode,gridsize)\n",
        "    #currNd.nodeDebugInfo()\n",
        "\n",
        "    pathStr=\"\"\n",
        "    pathCost=0\n",
        "    # check if current node is goal node or not\n",
        "    isGoalNode = goalTest(currNd)\n",
        "    if isGoalNode:\n",
        "      #print(\"Goal Node Found\")\n",
        "      tmpNdDict = dict(item=favNdDict.get('item'),fncost=favNdDict.get('fncost'),parent=favNdDict.get('parent'))\n",
        "      closedset.append(tmpNdDict)\n",
        "      goalPathStr, goalPathCost = goalPath(closedset)\n",
        "      return \"PathFound\", goalPathStr[3:], goalPathCost\n",
        "\n",
        "    # remove currND from openset and add to closeset\n",
        "    openset.remove(favNdDict)\n",
        "    closedset.append(favNdDict)\n",
        "    #print(\"Dubug : ** Openset after removing current node => \"+str(openset))\n",
        "    #print(\"Dubug : #### Closedset after adding current node => \"+str(closedset))\n",
        "\n",
        "    # potential neigbors\n",
        "    potentialNeigbors = currNd.getNeigbors()\n",
        "    #print(\"Dubug : Potential Neigbors => \"+str(potentialNeigbors))\n",
        "\n",
        "    tmpset=[]\n",
        "    # add potential neigbors to openset\n",
        "    for item in potentialNeigbors:\n",
        "      tmpNd = Node(cavegrid[item[0]][item[1]],item,GoalNode,gridsize)\n",
        "      tmpNdDict = dict(item=item,fncost=overallCostFunc_fx(tmpNd),parent=favNdDict.get('item'))\n",
        "      tmpset.append(tmpNdDict)\n",
        "\n",
        "    # check if tmpset item value is equal to closedset item value, if not add to openset\n",
        "    t1 = [x for x in tmpset if x.get('item') not in [y.get('item') for y in closedset]]\n",
        "    openset = openset + t1\n",
        "    #print(\"Dubug : ## Openset after adding potential Neigbors => \"+str(openset))\n",
        "\n",
        "    # todo - check for no potential neigbors\n",
        "    if len(openset)<=0:\n",
        "        print(\"Goal Node Not Found. No poential neigbors. openset is empty\")\n",
        "        return  \"No path found\", pathStr, pathCost\n",
        "\n",
        "  return \"NoPathFound\", pathStr, pathCost"
      ]
    },
    {
      "cell_type": "markdown",
      "metadata": {
        "id": "KnbdDl6HF7sO"
      },
      "source": [
        "## 3.\tDefinition of Algorithm 2 (random start hill climbing)\n",
        "\n",
        "\n",
        "A local search algorithm that repeatedly starts from random points, greedily moving toward the best neighbor, but it can get stuck in local optima, making it less reliable for complex pathfinding."
      ]
    },
    {
      "cell_type": "code",
      "source": [
        "#Instruction --> Code Block : Function for algorithm 2 implementation\n",
        "\n",
        "# start hill climbing alog\n",
        "def hill_climbing_alog(StartNode, GoalNode):\n",
        "\n",
        "  # Hill Climbing Alog\n",
        "  visitedset = [] # close set\n",
        "  vistingNode = StartNode # Starting at random node\n",
        "  path=\"\"\n",
        "  pathCost=0\n",
        "  for i in range(15): # restricting to max number of interations\n",
        "    #print(\"-------------------------------------------------\")\n",
        "    #print(\"Interation ---->\",i)\n",
        "    #print(\"-------------------------------------------------\")\n",
        "\n",
        "    # get the node details\n",
        "    vistingNodeDtls = Node(cavegrid[vistingNode[0]][vistingNode[1]],vistingNode,GoalNode,gridsize)\n",
        "    #vistingNodeDtls.nodeDebugInfo()\n",
        "\n",
        "    # add the visiting Node item current position\n",
        "    visitedset.append(vistingNodeDtls.currNodePos)\n",
        "    #print(\"Dubug : Visitedset position after adding current node => \"+str(visitedset))\n",
        "\n",
        "    path=path+\"-->\"+str(vistingNodeDtls.currNodePos);\n",
        "    #print(\"Debug - Path String : \"+path)\n",
        "\n",
        "    # check if current node is goal node or not\n",
        "    isGoalNode = goalTest(vistingNodeDtls)\n",
        "\n",
        "    if isGoalNode:\n",
        "      #print(\"Goal Node Found\")\n",
        "      return \"PathFound\", path[3:], pathCost\n",
        "\n",
        "    # get potential neigbors of visiting node\n",
        "    potentialNeigbors = vistingNodeDtls.getNeigbors()\n",
        "    #print(\"Dubug : Potential Neigbors => \"+str(potentialNeigbors))\n",
        "\n",
        "    # check if the potential neigbors is in visited set, if ignore the item\n",
        "    potentialNeigbors = [x for x in potentialNeigbors if x not in visitedset]\n",
        "    #print(\"Dubug : Potential Neigbors after ignoring visited set => \"+str(potentialNeigbors))\n",
        "\n",
        "    # evaluate the potential neigbors cost function and select neigbor with low cost function\n",
        "    tmpcost=9999\n",
        "    for item in potentialNeigbors:\n",
        "      tmpNd = Node(cavegrid[item[0]][item[1]],item,GoalNode,gridsize)\n",
        "      #print(\">>>>>>>>>>>>> Debug - Item\"+str(item))\n",
        "      #print(\">>>>>>>>>>>>> Debug - tmpNd\"+str(tmpNd.overallCostFunc_fx()))\n",
        "      #print(\">>>>>>>>>>>>> Debug - tmpcost\"+str(tmpcost))\n",
        "      if overallCostFunc_fx(tmpNd) < tmpcost: # if minial cost, select new node as better negibor\n",
        "        vistingNodeDtls = tmpNd\n",
        "        vistingNode = item\n",
        "        tmpcost = overallCostFunc_fx(tmpNd)\n",
        "        #print(\">>>>>>>> Change in visiting node\")\n",
        "\n",
        "      if overallCostFunc_fx(tmpNd) == tmpcost: # if equal cost, select a random neibor\n",
        "        # select randomly either vistingnoe or item\n",
        "        r = random.randint(0,1)\n",
        "        if r==0:\n",
        "          vistingNodeDtls = tmpNd\n",
        "          vistingNode = item\n",
        "          tmpcost = overallCostFunc_fx(tmpNd)\n",
        "         #print(\">>>>>>>> Change in visiting node\")\n",
        "\n",
        "    pathCost=pathCost+ overallCostFunc_fx(vistingNodeDtls)\n",
        "    #print(\"Debug - Path Cost : \"+str(pathCost))\n",
        "    #print(\"curreent.. node cost\"+str(vistingNodeDtls.overallCostFunc_fx()))\n",
        "    #print(\"current ...Visting node : \"+str(vistingNode))\n",
        "\n",
        "\n",
        "    #print(\"Debug - New visiting node \"+str(vistingNode))\n",
        "\n",
        "  return \"Nopathfound\", path, pathCost\n",
        "\n",
        "# call hill climbing\n",
        "#hill_climbing_alog()\n",
        "\n",
        "# random start hill climbing alog\n",
        "def random_start_hill_climbing_alog(StartNode, GoalNode, NumberOfRestarts):\n",
        "  print(\"\\n\\n---------  Start a random start hill climbing search -------------------\\n\\n\")\n",
        "  bestpath=\"\"\n",
        "  bestCost=0\n",
        "\n",
        "  no_of_restart=NumberOfRestarts\n",
        "\n",
        "  for i in range(no_of_restart):\n",
        "    #print(\"-------------------------------------------------\")\n",
        "    #print(\"Random Start Interation ==>\",i)\n",
        "    status, path, pathcost = hill_climbing_alog(StartNode, GoalNode)\n",
        "    #print(\"Status ==>\",status)\n",
        "    #print(\"Path ==>\",path)\n",
        "    #print(\"Path Cost ==>\",pathcost)\n",
        "    if status==\"PathFound\":\n",
        "      if bestpath==\"\":\n",
        "        bestpath=path\n",
        "        bestCost=pathcost\n",
        "      elif pathcost < bestCost:\n",
        "        bestpath=path\n",
        "        bestCost=pathcost\n",
        "    #print(\"-------------------------------------------------\")\n",
        "\n",
        "  #print(\">>>>>>>>>>>>>>>>>>>>>>>>>>>>>>>>>>>>>>>>>>>>>>>>>>>\")\n",
        "  #print(\"\\n\\n\\n\")\n",
        "  #print(\"Best Path ==>\",bestpath)\n",
        "  #print(\"Best Path Cost ==>\",bestCost)\n",
        "\n",
        "  return bestpath, bestCost"
      ],
      "metadata": {
        "id": "Or8r5s2w7noy"
      },
      "execution_count": 9,
      "outputs": []
    },
    {
      "cell_type": "markdown",
      "metadata": {
        "id": "LEV2XHccF7sP"
      },
      "source": [
        "### DYNAMIC INPUT"
      ]
    },
    {
      "cell_type": "markdown",
      "metadata": {
        "id": "CylYRo_DF7sP"
      },
      "source": [
        "IMPORTANT : Dynamic Input must be got in this section. Display the possible states to choose from:\n",
        "This is applicable for all the relevent problems as mentioned in the question."
      ]
    },
    {
      "cell_type": "code",
      "execution_count": 10,
      "metadata": {
        "id": "Q5t1Lc-wF7sP"
      },
      "outputs": [],
      "source": [
        "#instruction --> Code Block : Function & call to get inputs (start/end state)\n",
        "\n",
        "# the Starting position of the Rabbit is at 0,2 postion of cave/Grid, as given in the problem\n",
        "StartNode = (0,2)\n",
        "\n",
        "# The goal postion where the Rabbit needs go to move out of cave\n",
        "GoalNode = (6,4)\n",
        "\n",
        "# node object of the initial state, at start node = (0,2) position\n",
        "initState = initState(StartNode)\n",
        "#print(\"Debug  initial state \"+str(initState.currNodePos))\n",
        "\n",
        "# number of restarts for random restart hill climbing alog\n",
        "NumberOfRestarts=20"
      ]
    },
    {
      "cell_type": "markdown",
      "metadata": {
        "id": "xsfOP81lF7sP"
      },
      "source": [
        "## 4.\tCalling the search algorithms\n",
        "(For bidirectional search in below sections first part can be used as per Hint provided. Under second section other combinations as per Hint or your choice of 2 algorithms can be called .As an analyst suggest suitable approximation in the comparitive analysis section)"
      ]
    },
    {
      "cell_type": "code",
      "execution_count": 11,
      "metadata": {
        "id": "Og5zI9thF7sP",
        "colab": {
          "base_uri": "https://localhost:8080/"
        },
        "outputId": "15443b78-4acb-4ac5-b9a8-6186eb1d1edc"
      },
      "outputs": [
        {
          "output_type": "stream",
          "name": "stdout",
          "text": [
            "\n",
            "\n",
            "---------  Start a star search -------------------\n",
            "\n",
            "\n",
            "\n",
            "\n",
            "A* Algorithm Results\n",
            "\n",
            "\n",
            "Path Found Status: PathFound\n",
            "Optimal Path: (6, 4)-->(5, 4)-->(4, 4)-->(4, 3)-->(4, 2)-->(3, 2)-->(2, 2)-->(1, 2)-->(0, 2)\n",
            "\n",
            "\n",
            "Total Cost: 52\n",
            "Execution Time: 0.000770 seconds\n",
            "Memory Used: 0.00 KB\n"
          ]
        }
      ],
      "source": [
        "#Insturction --> Invoke algorithm 1 (Should Print the solution, path, cost etc., (As mentioned in the problem))\n",
        "# A* Alog call\n",
        "start_time = time.time()\n",
        "mem_usage_start = resource.getrusage(resource.RUSAGE_SELF).ru_maxrss\n",
        "\n",
        "# *********************** Invoke A * Algorithm ****************************\n",
        "status, pathstr, pathcost = a_star_alog(StartNode, GoalNode )\n",
        "\n",
        "end_time = time.time()\n",
        "mem_usage_end = resource.getrusage(resource.RUSAGE_SELF).ru_maxrss\n",
        "execution_time = end_time - start_time\n",
        "memory_used = (mem_usage_end - mem_usage_start)   # in KB\n",
        "\n",
        "a_star_time = execution_time\n",
        "a_star_path = pathstr\n",
        "a_star_cost = pathcost\n",
        "a_star_memroy = memory_used\n",
        "\n",
        "\n",
        "print(\"\\n\\nA* Algorithm Results\\n\\n\")\n",
        "print(f\"Path Found Status: {status}\")\n",
        "print(f\"Optimal Path: {pathstr}\")\n",
        "print(f\"\\n\\nTotal Cost: {pathcost}\")\n",
        "print(f\"Execution Time: {execution_time:.6f} seconds\")\n",
        "print(f\"Memory Used: {memory_used:.2f} KB\")\n"
      ]
    },
    {
      "cell_type": "code",
      "execution_count": 12,
      "metadata": {
        "id": "u3MJeA6eF7sP",
        "colab": {
          "base_uri": "https://localhost:8080/"
        },
        "outputId": "7dc5f91e-1643-4a27-bcb6-a2948b8b92c5"
      },
      "outputs": [
        {
          "output_type": "stream",
          "name": "stdout",
          "text": [
            "\n",
            "\n",
            "---------  Start a random start hill climbing search -------------------\n",
            "\n",
            "\n",
            "\n",
            "\n",
            "Random Restart Hill Climbing Algorithm Results\n",
            "\n",
            "\n",
            "Number of Restarts: 20\n",
            "Optimal Path: (0, 2)-->(1, 2)-->(2, 2)-->(3, 2)-->(4, 2)-->(4, 3)-->(4, 4)-->(5, 4)-->(6, 4)\n",
            "\n",
            "\n",
            "Total Cost: 52\n",
            "Execution Time: 0.003185 seconds\n",
            "Memory Used: 0.00 KB\n"
          ]
        }
      ],
      "source": [
        "#Instruction -> Invoke algorithm 2 (Should Print the solution, path, cost etc., (As mentioned in the problem))\n",
        "\n",
        "# call random start hill climbing\n",
        "start_time = time.time()\n",
        "mem_usage_start = resource.getrusage(resource.RUSAGE_SELF).ru_maxrss\n",
        "\n",
        "# *********************** Invoke Random Hill Climbing Algorithm ****************************\n",
        "bestpath, bestCost = random_start_hill_climbing_alog(StartNode, GoalNode, NumberOfRestarts)\n",
        "\n",
        "end_time = time.time()\n",
        "mem_usage_end = resource.getrusage(resource.RUSAGE_SELF).ru_maxrss\n",
        "execution_time = end_time - start_time\n",
        "memory_used = (mem_usage_end - mem_usage_start)  # in KB\n",
        "\n",
        "hill_time = execution_time\n",
        "hill_path = bestpath\n",
        "hill_cost = bestCost\n",
        "hill_memory = memory_used\n",
        "\n",
        "print(\"\\n\\nRandom Restart Hill Climbing Algorithm Results\\n\\n\")\n",
        "print(f\"Number of Restarts: {NumberOfRestarts}\")\n",
        "print(f\"Optimal Path: {bestpath}\")\n",
        "print(f\"\\n\\nTotal Cost: {bestCost}\")\n",
        "print(f\"Execution Time: {execution_time:.6f} seconds\")\n",
        "print(f\"Memory Used: {memory_used:.2f} KB\")"
      ]
    },
    {
      "cell_type": "markdown",
      "metadata": {
        "id": "TOU3Rem6F7sQ"
      },
      "source": [
        "## 5.\tComparitive Analysis (Time and Space Complexity)"
      ]
    },
    {
      "cell_type": "code",
      "execution_count": 13,
      "metadata": {
        "id": "HG6fWwiIF7sQ",
        "colab": {
          "base_uri": "https://localhost:8080/"
        },
        "outputId": "e8f594f8-507d-481c-dcc1-27d9b30512b4"
      },
      "outputs": [
        {
          "output_type": "stream",
          "name": "stdout",
          "text": [
            " ------- A * Algorithm ------------\n",
            "Execution Time: 0.000770 seconds\n",
            "Memory Used: 0.00 KB\n"
          ]
        }
      ],
      "source": [
        "#Insturction -> Code Block : Print the Time & Space complexity of algorithm 1\n",
        "print(\" ------- A * Algorithm ------------\")\n",
        "print(f\"Execution Time: {a_star_time:.6f} seconds\")\n",
        "print(f\"Memory Used: {a_star_memroy:.2f} KB\")"
      ]
    },
    {
      "cell_type": "code",
      "execution_count": 14,
      "metadata": {
        "id": "xMButLKCF7sQ",
        "colab": {
          "base_uri": "https://localhost:8080/"
        },
        "outputId": "cd22ec25-664f-49a6-e0cc-b53c4b96e738"
      },
      "outputs": [
        {
          "output_type": "stream",
          "name": "stdout",
          "text": [
            " ------- Random Hill Climbing Algorithm ------------\n",
            "Execution Time: 0.003185 seconds\n",
            "Memory Used: 0.00 KB\n"
          ]
        }
      ],
      "source": [
        "#Instruction -> Code Block : Print the Time & Space complexity of algorithm 2\n",
        "print(\" ------- Random Hill Climbing Algorithm ------------\")\n",
        "print(f\"Execution Time: {hill_time:.6f} seconds\")\n",
        "print(f\"Memory Used: {hill_memory:.2f} KB\")"
      ]
    },
    {
      "cell_type": "markdown",
      "metadata": {
        "id": "y2nXwAlsF7sQ"
      },
      "source": [
        "## 6.\tProvide your comparitive analysis or findings in no more than 3 lines in below section"
      ]
    },
    {
      "cell_type": "code",
      "source": [
        "# ------------------- Comparison Section -------------------\n",
        "print(\"\\n--- Comparison of Algorithms ---\")\n",
        "a_star_path=a_star_path\n",
        "hill_path=hill_path\n",
        "total_cost = a_star_cost\n",
        "total_cost2 = hill_cost\n",
        "a_star_time = a_star_time\n",
        "hill_time = hill_time\n",
        "\n",
        "if a_star_path is None and hill_path is None:\n",
        "    print(\"No valid path found by either algorithm.\")\n",
        "elif a_star_path is not None and (hill_path is None or total_cost < total_cost2):\n",
        "    print(\"A* algorithm is better based on total cost:\")\n",
        "    print(f\"A* Optimal Path: {a_star_path}\")\n",
        "    print(f\"A* Total Cost: {total_cost}\")\n",
        "    print(f\"A* Execution Time: {a_star_time:.6f} seconds\")\n",
        "elif hill_path is not None and (a_star_path is None or total_cost2 < total_cost):\n",
        "    print(\"Random Restart Hill Climbing is better based on total cost:\")\n",
        "    print(f\"Hill Climbing Optimal Path: {hill_path}\")\n",
        "    print(f\"Hill Climbing Total Cost: {total_cost2}\")\n",
        "    print(f\"Hill Climbing Execution Time: {hill_time:.6f} seconds\")\n",
        "else:\n",
        "    # If total costs are equal, choose the one with lower execution time\n",
        "    if a_star_time <= hill_time:\n",
        "        print(\"Total costs are equal. A* is chosen based on lower execution time:\")\n",
        "        print(f\"A* Optimal Path: {a_star_path}\")\n",
        "        print(f\"A* Total Cost: {total_cost}\")\n",
        "        print(f\"A* Execution Time: {a_star_time:.6f} seconds\")\n",
        "    else:\n",
        "        print(\"Total costs are equal. Hill Climbing is chosen based on lower execution time:\")\n",
        "        print(f\"Hill Climbing Optimal Path: {hill_path}\")\n",
        "        print(f\"Hill Climbing Total Cost: {total_cost2}\")\n",
        "        print(f\"Hill Climbing Execution Time: {hill_time:.6f} seconds\")"
      ],
      "metadata": {
        "colab": {
          "base_uri": "https://localhost:8080/"
        },
        "id": "imzeP0148eld",
        "outputId": "e594a411-3a60-4a1d-cd8d-eae63a9eccb5"
      },
      "execution_count": 15,
      "outputs": [
        {
          "output_type": "stream",
          "name": "stdout",
          "text": [
            "\n",
            "--- Comparison of Algorithms ---\n",
            "Total costs are equal. A* is chosen based on lower execution time:\n",
            "A* Optimal Path: (6, 4)-->(5, 4)-->(4, 4)-->(4, 3)-->(4, 2)-->(3, 2)-->(2, 2)-->(1, 2)-->(0, 2)\n",
            "A* Total Cost: 52\n",
            "A* Execution Time: 0.000770 seconds\n"
          ]
        }
      ]
    },
    {
      "cell_type": "markdown",
      "metadata": {
        "id": "si483-zoF7sQ"
      },
      "source": [
        "### Comparison Observation\n",
        "\n",
        "#### A* consistently finds the optimal path with the lowest cost and fastest execution time due to its heuristic-based global search.\n",
        "\n",
        "#### Random Restart Hill Climbing struggles with local optima, often failing to find a valid path or taking longer due to frequent restarts.\n",
        "\n",
        "#### A* is clearly the better choice for this structured grid-based pathfinding problem."
      ]
    }
  ],
  "metadata": {
    "kernelspec": {
      "display_name": "Python 3",
      "language": "python",
      "name": "python3"
    },
    "language_info": {
      "codemirror_mode": {
        "name": "ipython",
        "version": 3
      },
      "file_extension": ".py",
      "mimetype": "text/x-python",
      "name": "python",
      "nbconvert_exporter": "python",
      "pygments_lexer": "ipython3",
      "version": "3.7.6"
    },
    "colab": {
      "provenance": [],
      "include_colab_link": true
    }
  },
  "nbformat": 4,
  "nbformat_minor": 0
}